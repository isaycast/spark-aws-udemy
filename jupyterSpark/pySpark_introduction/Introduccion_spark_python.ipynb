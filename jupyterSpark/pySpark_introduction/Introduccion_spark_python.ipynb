{
 "cells": [
  {
   "cell_type": "code",
   "execution_count": 1,
   "id": "ad8adcd1-f7fb-4861-9e74-cfbabca9883a",
   "metadata": {},
   "outputs": [],
   "source": [
    "# import spark \n",
    "from pyspark import SparkContext"
   ]
  },
  {
   "cell_type": "code",
   "execution_count": 3,
   "id": "7fa0ac80-a430-45f4-923b-2016f5d9fa82",
   "metadata": {},
   "outputs": [],
   "source": [
    "sc = SparkContext()"
   ]
  },
  {
   "cell_type": "code",
   "execution_count": 3,
   "id": "e7895f93-12b6-42ac-9e3f-9ec42988230f",
   "metadata": {},
   "outputs": [
    {
     "name": "stdout",
     "output_type": "stream",
     "text": [
      "Writing ejemplo.txt\n"
     ]
    }
   ],
   "source": [
    "# creating ejemplot.txt file\n",
    "%%writefile ejemplo.txt\n",
    "primera linea\n",
    "segunda linea\n",
    "tercera linea"
   ]
  },
  {
   "cell_type": "code",
   "execution_count": 4,
   "id": "228fb977-478e-4254-a77e-268ded0ded28",
   "metadata": {},
   "outputs": [],
   "source": [
    "# Reading Text files with RDDs\n",
    "textFile = sc.textFile('ejemplo.txt')"
   ]
  },
  {
   "cell_type": "markdown",
   "id": "5dabab2e-efec-4e7b-bec0-77a98148b897",
   "metadata": {},
   "source": [
    "## Note:\n",
    "When you read text files in PySpark, every line going to be taked as member of list.  \n",
    "\n",
    "Example:  \n",
    "ejemplo.txt going to be a list with three elements [\"primera linea\", \"Segunda linea\", \"Tercerra linea\"]"
   ]
  },
  {
   "cell_type": "code",
   "execution_count": 11,
   "id": "faaea26c-c237-43a4-bc00-dbe704c46ca5",
   "metadata": {},
   "outputs": [
    {
     "name": "stdout",
     "output_type": "stream",
     "text": [
      "['primera linea', 'segunda linea', 'tercera linea']\n",
      "3\n",
      "primera linea\n"
     ]
    }
   ],
   "source": [
    "# Collect is a accion method to show information in RDD or Dataframe\n",
    "print(textFile.collect())\n",
    "# Count number of elements of RDDs\n",
    "print(textFile.count())\n",
    "# Take the first element in RDD\n",
    "print(textFile.first())"
   ]
  },
  {
   "cell_type": "code",
   "execution_count": 13,
   "id": "16b71526-f18c-413c-9fd4-c14754f0185d",
   "metadata": {},
   "outputs": [
    {
     "data": {
      "text/plain": [
       "['segunda linea']"
      ]
     },
     "execution_count": 13,
     "metadata": {},
     "output_type": "execute_result"
    }
   ],
   "source": [
    "# Transformation methods\n",
    "second = textFile.filter(lambda linea: \"segunda\" in linea)\n",
    "# it is necessary create an accion to show the transformations\n",
    "second.collect()"
   ]
  },
  {
   "cell_type": "markdown",
   "id": "49933536-531e-43c1-b656-e15c22b2b4a0",
   "metadata": {},
   "source": [
    "# PySpark Transformation in Deep"
   ]
  },
  {
   "cell_type": "code",
   "execution_count": 15,
   "id": "bac0abd2-6a72-4c3a-a681-f2b58ffbb933",
   "metadata": {},
   "outputs": [],
   "source": [
    "list_numbers = [1, 2, 3, 4, 5]\n",
    "# creating rdd object\n",
    "rdd = sc.parallelize(list_numbers)"
   ]
  },
  {
   "cell_type": "markdown",
   "id": "9d29e1f2-5008-4050-8e59-a60e8abcccb9",
   "metadata": {},
   "source": [
    "## filter: filter elements in RDD using lambda expression"
   ]
  },
  {
   "cell_type": "code",
   "execution_count": null,
   "id": "52a03348-9b0d-4d3d-b907-a0c35131aa08",
   "metadata": {},
   "outputs": [],
   "source": [
    "print(rdd.filter(lambda n : n > 1).collect())"
   ]
  },
  {
   "cell_type": "markdown",
   "id": "d5029abd-9f20-42fc-8f48-b37bae0c2b88",
   "metadata": {},
   "source": [
    "## map: apply function to elements in Rdd"
   ]
  },
  {
   "cell_type": "code",
   "execution_count": 19,
   "id": "f5a584c5-a154-40b1-8e42-3eeaeb424169",
   "metadata": {},
   "outputs": [
    {
     "name": "stdout",
     "output_type": "stream",
     "text": [
      "[2, 3, 4, 5, 6]\n"
     ]
    }
   ],
   "source": [
    "def sum_one(element):\n",
    "    \"\"\"Sum one to element\n",
    "    keyword arguments:\n",
    "    element -> number\n",
    "    \n",
    "    returns original number + 1\n",
    "    \"\"\"\n",
    "    return element + 1\n",
    "    \n",
    "    \n",
    "print(rdd.map(sum_one).collect())"
   ]
  },
  {
   "cell_type": "code",
   "execution_count": 25,
   "id": "5cf000c6-62db-416a-a035-b4c15a751884",
   "metadata": {},
   "outputs": [
    {
     "name": "stdout",
     "output_type": "stream",
     "text": [
      "[4, 9, 16, 25, 36]\n"
     ]
    },
    {
     "data": {
      "text/plain": [
       "[(2, 4), (3, 9), (4, 16), (5, 25), (6, 36)]"
      ]
     },
     "execution_count": 25,
     "metadata": {},
     "output_type": "execute_result"
    }
   ],
   "source": [
    "# Also you can chain map methods\n",
    "def square_number(element):\n",
    "    \"\"\"Sum one to element\n",
    "    keyword arguments:\n",
    "    element -> number\n",
    "    \n",
    "    returns  the square of the original number\n",
    "    \"\"\"\n",
    "    return element * element\n",
    "\n",
    "print(rdd.map(sum_one)\\\n",
    "    .map(square_number)\\\n",
    "    .collect())\n",
    "\n",
    "# Note: you can apply lambda function in map methods\n",
    "tuple_rdd = rdd.map(sum_one)\\\n",
    "                .map(lambda x : (x, x**2))\n",
    "tuple_rdd.collect()\n"
   ]
  },
  {
   "cell_type": "markdown",
   "id": "f90c4c0b-5ed7-484f-890e-de25cf028593",
   "metadata": {},
   "source": [
    "## FlatMap: is equal to map but convert the output ina simple list"
   ]
  },
  {
   "cell_type": "code",
   "execution_count": 29,
   "id": "a6d97ecd-a6d6-4bf1-885d-81dddb7ae8bd",
   "metadata": {},
   "outputs": [
    {
     "data": {
      "text/plain": [
       "[2, 4, 3, 9, 4, 16, 5, 25, 6, 36]"
      ]
     },
     "execution_count": 29,
     "metadata": {},
     "output_type": "execute_result"
    }
   ],
   "source": [
    "simple_list = rdd.map(sum_one)\\\n",
    "                .flatMap(lambda x : (x, x**2))\n",
    "simple_list.collect()"
   ]
  },
  {
   "cell_type": "markdown",
   "id": "04d34a40-b913-4697-8c46-459d48ac5e1a",
   "metadata": {},
   "source": [
    "## Sample(withReplacement, fraction, seed) take a sample from rdd"
   ]
  },
  {
   "cell_type": "code",
   "execution_count": 38,
   "id": "ed4ee5b7-199e-4990-af2e-0591edfeb071",
   "metadata": {},
   "outputs": [
    {
     "name": "stdout",
     "output_type": "stream",
     "text": [
      "[2, 3, 4]\n"
     ]
    },
    {
     "data": {
      "text/plain": [
       "[1, 1, 1, 3, 3, 3, 3, 4, 4, 4, 5, 5, 5, 5, 5, 5]"
      ]
     },
     "execution_count": 38,
     "metadata": {},
     "output_type": "execute_result"
    }
   ],
   "source": [
    "# Take 0.5 from original RDD without replacement\n",
    "print(rdd.sample(withReplacement = False, fraction = 0.5).collect())\n",
    "# Take 100 % from original RDD with replacement, that means that the elements could be repited\n",
    "sample_with_replacement = rdd.sample(withReplacement = True, fraction = 5)\n",
    "sample_with_replacement.collect()"
   ]
  },
  {
   "cell_type": "markdown",
   "id": "ddfe1dfb-545d-4186-b0d3-cca5771be53d",
   "metadata": {},
   "source": [
    "## Distinct: return a new RDD without duplicates"
   ]
  },
  {
   "cell_type": "code",
   "execution_count": 39,
   "id": "e137d600-202d-4569-8314-4ff76f6d24dd",
   "metadata": {},
   "outputs": [
    {
     "data": {
      "text/plain": [
       "[1, 3, 4, 5]"
      ]
     },
     "execution_count": 39,
     "metadata": {},
     "output_type": "execute_result"
    }
   ],
   "source": [
    "sample_with_replacement.distinct().collect()"
   ]
  },
  {
   "cell_type": "markdown",
   "id": "91ddbb89-4a1d-453f-8823-1e1ac752954e",
   "metadata": {},
   "source": [
    "# groupby: Return RDD with group data in format key:val\n",
    " - Its important to mention thats this could cause shuffle"
   ]
  },
  {
   "cell_type": "code",
   "execution_count": 42,
   "id": "5d2fa42e-d29f-4339-bc5b-d3caaa9ac7f0",
   "metadata": {},
   "outputs": [
    {
     "data": {
      "text/plain": [
       "[(False, <pyspark.resultiterable.ResultIterable at 0x7f1a98198d30>),\n",
       " (True, <pyspark.resultiterable.ResultIterable at 0x7f1a980fd600>)]"
      ]
     },
     "execution_count": 42,
     "metadata": {},
     "output_type": "execute_result"
    }
   ],
   "source": [
    "group_elements = sample_with_replacement.groupBy(lambda x: x > 1)\n",
    "group_elements.collect()"
   ]
  },
  {
   "cell_type": "code",
   "execution_count": 48,
   "id": "7d35366a-2501-4ee5-9737-bc6e468ed1c1",
   "metadata": {},
   "outputs": [
    {
     "name": "stdout",
     "output_type": "stream",
     "text": [
      "[(False, [1, 1, 1]), (True, [3, 3, 3, 3, 4, 4, 4, 5, 5, 5, 5, 5, 5])]\n"
     ]
    }
   ],
   "source": [
    "# The above code return iterable, to get the value iter over this element is necessary\n",
    "print([(x,sorted(y)) for (x, y) in group_elements.collect()])"
   ]
  },
  {
   "cell_type": "markdown",
   "id": "b3bf25db-21d6-44d7-be69-00c79c407a63",
   "metadata": {},
   "source": [
    "## Transformation over two RDDs"
   ]
  },
  {
   "cell_type": "code",
   "execution_count": 51,
   "id": "1cee14e7-c129-490f-bef5-137d15a4f117",
   "metadata": {},
   "outputs": [],
   "source": [
    "rdda = sc.parallelize([1,2,3])\n",
    "rddb = sc.parallelize([4,5,6])"
   ]
  },
  {
   "cell_type": "code",
   "execution_count": 53,
   "id": "1e68dc23-16c9-4a37-b650-f20c5ba66c40",
   "metadata": {},
   "outputs": [
    {
     "data": {
      "text/plain": [
       "[1, 2, 3, 4, 5, 6]"
      ]
     },
     "execution_count": 53,
     "metadata": {},
     "output_type": "execute_result"
    }
   ],
   "source": [
    "# union between two rdds\n",
    "rddu = rdda.union(rddb)\n",
    "rddu.collect()"
   ]
  },
  {
   "cell_type": "code",
   "execution_count": 56,
   "id": "83d3a45a-d94a-4e9b-811f-a9db6ba5cf55",
   "metadata": {},
   "outputs": [],
   "source": [
    "rdda = sc.parallelize([1,2,3,4])\n",
    "rddb = sc.parallelize([3,4,5,6])"
   ]
  },
  {
   "cell_type": "code",
   "execution_count": 57,
   "id": "6acaaead-d1f9-4e82-bc80-69be2118af34",
   "metadata": {},
   "outputs": [
    {
     "data": {
      "text/plain": [
       "[3, 4]"
      ]
     },
     "execution_count": 57,
     "metadata": {},
     "output_type": "execute_result"
    }
   ],
   "source": [
    "# intersection between two rdds\n",
    "rddi = rdda.intersection(rddb)\n",
    "rddi.collect()"
   ]
  },
  {
   "cell_type": "code",
   "execution_count": 59,
   "id": "5e448bc5-ce54-49e9-8d4f-67aa706b2baf",
   "metadata": {},
   "outputs": [
    {
     "data": {
      "text/plain": [
       "[1, 2]"
      ]
     },
     "execution_count": 59,
     "metadata": {},
     "output_type": "execute_result"
    }
   ],
   "source": [
    "# subtraction between two rdd, returns elements in rdda that are not in rddb\n",
    "rdds = rdda.subtract(rddb)\n",
    "rdds.collect()"
   ]
  },
  {
   "cell_type": "code",
   "execution_count": 62,
   "id": "a969a7b8-4657-4120-98fa-f2ebddf06c62",
   "metadata": {},
   "outputs": [
    {
     "data": {
      "text/plain": [
       "[(1, 3),\n",
       " (1, 4),\n",
       " (1, 5),\n",
       " (1, 6),\n",
       " (2, 3),\n",
       " (2, 4),\n",
       " (2, 5),\n",
       " (2, 6),\n",
       " (3, 3),\n",
       " (3, 4),\n",
       " (3, 5),\n",
       " (3, 6),\n",
       " (4, 3),\n",
       " (4, 4),\n",
       " (4, 5),\n",
       " (4, 6)]"
      ]
     },
     "execution_count": 62,
     "metadata": {},
     "output_type": "execute_result"
    }
   ],
   "source": [
    "# rdda cartesian cartisian gen cartesian point for each element in rdds\n",
    "rddc = rdda.cartesian(rddb)\n",
    "rddc.collect()"
   ]
  },
  {
   "cell_type": "markdown",
   "id": "f680c013-1b36-4b7c-9c64-f630d5dcbf27",
   "metadata": {},
   "source": [
    "## Actions methods, alternatives to collect"
   ]
  },
  {
   "cell_type": "code",
   "execution_count": 63,
   "id": "fd567f66-c4e7-44bf-a4a1-4e9cf169a468",
   "metadata": {},
   "outputs": [
    {
     "data": {
      "text/plain": [
       "[1, 2, 3, 4, 5]"
      ]
     },
     "execution_count": 63,
     "metadata": {},
     "output_type": "execute_result"
    }
   ],
   "source": [
    "rdd = sc.parallelize(range(1,6))\n",
    "rdd.collect()"
   ]
  },
  {
   "cell_type": "markdown",
   "id": "01f83a4a-29c4-4c93-81a5-224a3d242a87",
   "metadata": {},
   "source": [
    "### Collect could saturate memory, so here are some alternanives\n",
    "- take(n)\n",
    "- takeSample(withRep, n , seed)\n",
    "- top(n)\n",
    "- takeOrdered"
   ]
  },
  {
   "cell_type": "code",
   "execution_count": 64,
   "id": "7a0bcb28-16a6-4f28-9a80-86992706a7a4",
   "metadata": {},
   "outputs": [
    {
     "data": {
      "text/plain": [
       "[1, 2, 3, 4, 5]"
      ]
     },
     "execution_count": 64,
     "metadata": {},
     "output_type": "execute_result"
    }
   ],
   "source": [
    "rdd.take(5)"
   ]
  },
  {
   "cell_type": "code",
   "execution_count": 68,
   "id": "66b7de10-fc26-4faa-bd51-a732f8cae3be",
   "metadata": {},
   "outputs": [
    {
     "data": {
      "text/plain": [
       "[4, 4, 5, 5, 2, 5, 4, 1, 5, 3]"
      ]
     },
     "execution_count": 68,
     "metadata": {},
     "output_type": "execute_result"
    }
   ],
   "source": [
    "rdd.takeSample(True, 10) # Take sample with remplacement or without it"
   ]
  },
  {
   "cell_type": "code",
   "execution_count": 66,
   "id": "4d21c188-4a64-4010-ba8d-d682b4c618c8",
   "metadata": {},
   "outputs": [
    {
     "data": {
      "text/plain": [
       "[5, 4, 3, 2, 1]"
      ]
     },
     "execution_count": 66,
     "metadata": {},
     "output_type": "execute_result"
    }
   ],
   "source": [
    "rdd.top(10) # DESC order"
   ]
  },
  {
   "cell_type": "code",
   "execution_count": 67,
   "id": "788d26ba-b047-46ef-940e-2d3783ee1309",
   "metadata": {},
   "outputs": [
    {
     "data": {
      "text/plain": [
       "[1, 2, 3, 4, 5]"
      ]
     },
     "execution_count": 67,
     "metadata": {},
     "output_type": "execute_result"
    }
   ],
   "source": [
    "rdd.takeOrdered(5) # ASC order or using a key"
   ]
  },
  {
   "cell_type": "markdown",
   "id": "bf61518b-8416-4d79-bb84-0bc84bc499fc",
   "metadata": {},
   "source": [
    "## reduce(operation) combine elements usiang operator"
   ]
  },
  {
   "cell_type": "code",
   "execution_count": 71,
   "id": "08ea1904-aaab-4908-9bea-e1bb7ff478d6",
   "metadata": {},
   "outputs": [
    {
     "data": {
      "text/plain": [
       "15"
      ]
     },
     "execution_count": 71,
     "metadata": {},
     "output_type": "execute_result"
    }
   ],
   "source": [
    "# you could pass lambdas and operators\n",
    "rdd.reduce(lambda x, y: x + y)"
   ]
  },
  {
   "cell_type": "code",
   "execution_count": 72,
   "id": "ee637bc8-2c1a-41d3-bc1b-0d80e4e644b2",
   "metadata": {},
   "outputs": [
    {
     "data": {
      "text/plain": [
       "15"
      ]
     },
     "execution_count": 72,
     "metadata": {},
     "output_type": "execute_result"
    }
   ],
   "source": [
    "from operator import add\n",
    "rdd.reduce(add)"
   ]
  },
  {
   "cell_type": "code",
   "execution_count": 74,
   "id": "0f937bd2-1f74-416c-9267-729792ab1763",
   "metadata": {},
   "outputs": [
    {
     "data": {
      "text/plain": [
       "[[1], [2, 3], [4, 5]]"
      ]
     },
     "execution_count": 74,
     "metadata": {},
     "output_type": "execute_result"
    }
   ],
   "source": [
    "# Rdd glom, allows us vizualize the number of partitions in Rdd\n",
    "rdd = sc.parallelize(range(1,6), 3)\n",
    "rdd.glom().collect()"
   ]
  },
  {
   "cell_type": "markdown",
   "id": "8f549420-195d-4ca2-ba9b-d12e4a3c7a59",
   "metadata": {},
   "source": [
    "## Aggregate (zeroValue, seqOp, combOp)\n",
    "- seqOp: This operator is used to acumulate results of each partition\n",
    "- combOp: This operator is used to acumulate results of all partitions"
   ]
  },
  {
   "cell_type": "code",
   "execution_count": 79,
   "id": "586e784b-75ff-431b-a29d-38b0e69725ce",
   "metadata": {},
   "outputs": [
    {
     "data": {
      "text/plain": [
       "15"
      ]
     },
     "execution_count": 79,
     "metadata": {},
     "output_type": "execute_result"
    }
   ],
   "source": [
    "rdd.aggregate(0, lambda x,y: add(x,y), lambda x,y: add(x,y))\n",
    "# how it function\n",
    "# rdd -> have 3 partitions so -> (1) (2, 3) (4, 5)\n",
    "# The seqOP first work over each partition (1) (2 + 3) ( 4 + 5 )\n",
    "# The combOp woks over all partition so + (1) + (5) + (9)\n",
    "# te result is 15"
   ]
  },
  {
   "cell_type": "markdown",
   "id": "8923b08c-b762-4f26-b2d4-d195ddf80594",
   "metadata": {},
   "source": [
    "## Actions to count elements\n",
    "- count() -> count all the elements in RDD\n",
    "- countApprox(timeout, confidence = 0.95) -> version aprox of count \n",
    "- countApproxDistinct(relativeSD = 0.05) ->  returns estimation of unique values"
   ]
  },
  {
   "cell_type": "code",
   "execution_count": 10,
   "id": "829764ef-d135-44a1-9598-b3e561dedb93",
   "metadata": {},
   "outputs": [],
   "source": [
    "rdd_counters = sc.parallelize(range(10000))"
   ]
  },
  {
   "cell_type": "code",
   "execution_count": 11,
   "id": "1a25adbf-9ff8-4c8d-8aab-ed055ec5884d",
   "metadata": {},
   "outputs": [
    {
     "data": {
      "text/plain": [
       "10000"
      ]
     },
     "execution_count": 11,
     "metadata": {},
     "output_type": "execute_result"
    }
   ],
   "source": [
    "rdd_counters.count()"
   ]
  },
  {
   "cell_type": "code",
   "execution_count": 12,
   "id": "a2c3c7cc-c48c-4f9e-9a43-36ccbee66aa2",
   "metadata": {},
   "outputs": [
    {
     "data": {
      "text/plain": [
       "10000"
      ]
     },
     "execution_count": 12,
     "metadata": {},
     "output_type": "execute_result"
    }
   ],
   "source": [
    "rdd_counters.countApprox(1, 0.95)"
   ]
  },
  {
   "cell_type": "code",
   "execution_count": 13,
   "id": "2e396852-7726-4653-b9f0-a7ee0d87f101",
   "metadata": {},
   "outputs": [
    {
     "data": {
      "text/plain": [
       "9760"
      ]
     },
     "execution_count": 13,
     "metadata": {},
     "output_type": "execute_result"
    }
   ],
   "source": [
    "rdd_counters.countApproxDistinct(0.05)"
   ]
  },
  {
   "cell_type": "code",
   "execution_count": 14,
   "id": "115a0cf4-aee3-455b-af6f-08969c361588",
   "metadata": {},
   "outputs": [
    {
     "data": {
      "text/plain": [
       "['h', 'o', 'l', 'a', ' ', 'm', 'u', 'n', 'd', 'o']"
      ]
     },
     "execution_count": 14,
     "metadata": {},
     "output_type": "execute_result"
    }
   ],
   "source": [
    "# countbyValue return number of time that appers each element as map or dictionary\n",
    "rdd = sc.parallelize(list(\"hola mundo\"))\n",
    "rdd.collect()"
   ]
  },
  {
   "cell_type": "code",
   "execution_count": 15,
   "id": "bf2e0c9b-71d9-48da-8036-a7bca62fb0f8",
   "metadata": {},
   "outputs": [
    {
     "data": {
      "text/plain": [
       "defaultdict(int,\n",
       "            {'h': 1,\n",
       "             'o': 2,\n",
       "             'l': 1,\n",
       "             'a': 1,\n",
       "             ' ': 1,\n",
       "             'm': 1,\n",
       "             'u': 1,\n",
       "             'n': 1,\n",
       "             'd': 1})"
      ]
     },
     "execution_count": 15,
     "metadata": {},
     "output_type": "execute_result"
    }
   ],
   "source": [
    "rdd.countByValue()"
   ]
  },
  {
   "cell_type": "code",
   "execution_count": 16,
   "id": "fccfc0e2-00b3-4b3f-857a-6252213af45e",
   "metadata": {},
   "outputs": [
    {
     "data": {
      "text/plain": [
       "dict_items([('h', 1), ('o', 2), ('l', 1), ('a', 1), (' ', 1), ('m', 1), ('u', 1), ('n', 1), ('d', 1)])"
      ]
     },
     "execution_count": 16,
     "metadata": {},
     "output_type": "execute_result"
    }
   ],
   "source": [
    "rdd.countByValue().items()"
   ]
  },
  {
   "cell_type": "code",
   "execution_count": null,
   "id": "c9af235b-e594-4468-8f77-7cf76417fbaf",
   "metadata": {},
   "outputs": [],
   "source": []
  }
 ],
 "metadata": {
  "kernelspec": {
   "display_name": "Python 3 (ipykernel)",
   "language": "python",
   "name": "python3"
  },
  "language_info": {
   "codemirror_mode": {
    "name": "ipython",
    "version": 3
   },
   "file_extension": ".py",
   "mimetype": "text/x-python",
   "name": "python",
   "nbconvert_exporter": "python",
   "pygments_lexer": "ipython3",
   "version": "3.10.5"
  }
 },
 "nbformat": 4,
 "nbformat_minor": 5
}
