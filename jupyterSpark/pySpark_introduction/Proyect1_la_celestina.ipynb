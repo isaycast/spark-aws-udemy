{
 "cells": [
  {
   "cell_type": "markdown",
   "id": "52079954-0a5c-457f-9275-b6d0244656b7",
   "metadata": {},
   "source": [
    "# Proyecto PySpark RDDs\n",
    "## El objetivo del proyecto es saber cuantas veces se repiten las siguientes palabras en el libro La Celestina\n",
    "- Celestina\n",
    "- Calisto\n",
    "- Melibea"
   ]
  },
  {
   "cell_type": "code",
   "execution_count": 3,
   "id": "4e21c569-ff41-496e-91f4-cc0c24d2baa8",
   "metadata": {},
   "outputs": [],
   "source": [
    "from pyspark import SparkContext"
   ]
  },
  {
   "cell_type": "code",
   "execution_count": 4,
   "id": "c35fa4f6-8b38-4819-962a-0e26b3e06e70",
   "metadata": {},
   "outputs": [],
   "source": [
    "sc =  SparkContext()\n",
    "la_celestina_rdd = sc.textFile(\"la_celestina.txt\")"
   ]
  },
  {
   "cell_type": "code",
   "execution_count": 6,
   "id": "f8dfff2e-a3d1-40bd-9462-6345cb1d9414",
   "metadata": {},
   "outputs": [
    {
     "data": {
      "text/plain": [
       "['**This is a COPYRIGHTED Project Gutenberg Etext, Details Below**',\n",
       " 'The Project Gutenberg Etext of La Celestina by Fernando de Rojas',\n",
       " '',\n",
       " 'Copyright 1998 R. S. Rudder',\n",
       " '']"
      ]
     },
     "execution_count": 6,
     "metadata": {},
     "output_type": "execute_result"
    }
   ],
   "source": [
    "# Show the first 5 lines to explore la_celestina\n",
    "la_celestina_rdd.take(5)"
   ]
  },
  {
   "cell_type": "code",
   "execution_count": 7,
   "id": "e66b970f-6fce-4023-93c9-3ea32e814125",
   "metadata": {},
   "outputs": [
    {
     "data": {
      "text/plain": [
       "['zurujanos que los flacos corazones: los quales con su gran',\n",
       " 'zozobras della.',\n",
       " 'zeloso de amar / temer / y seruir',\n",
       " 'zarazas: queria vender su cuerpo a trueco de contienda / oyeme / e',\n",
       " 'zapatero\" (porque no le acababa aquel dia los zapatos).']"
      ]
     },
     "execution_count": 7,
     "metadata": {},
     "output_type": "execute_result"
    }
   ],
   "source": [
    "# show the last 5 lines to explore  la_celestina\n",
    "la_celestina_rdd.top(5)"
   ]
  },
  {
   "cell_type": "code",
   "execution_count": 29,
   "id": "fd556326-38c1-4a79-991c-3efe8f0eb23e",
   "metadata": {},
   "outputs": [
    {
     "data": {
      "text/plain": [
       "defaultdict(int, {'celestina': 154, 'calisto': 167, 'melibea': 156})"
      ]
     },
     "execution_count": 29,
     "metadata": {},
     "output_type": "execute_result"
    }
   ],
   "source": [
    "# Delete signs and separate words\n",
    "import re\n",
    "def process_line(line):\n",
    "    new_line = re.sub(r'[^\\w]', ' ', line).strip().split(' ')\n",
    "    return new_line\n",
    "\n",
    "la_celestina_rdd.flatMap(process_line)\\\n",
    "                .map(lambda x: x.lower())\\\n",
    "                .filter(lambda word: word in [\"celestina\", \"calisto\", \"melibea\"] )\\\n",
    "                .countByValue()"
   ]
  },
  {
   "cell_type": "code",
   "execution_count": null,
   "id": "f4bd3949-abfb-4bd2-8bbb-7a29b2197529",
   "metadata": {},
   "outputs": [],
   "source": []
  },
  {
   "cell_type": "code",
   "execution_count": null,
   "id": "8411faf8-cd01-42d5-ad0c-f1d21da7fc6d",
   "metadata": {},
   "outputs": [],
   "source": []
  }
 ],
 "metadata": {
  "kernelspec": {
   "display_name": "Python 3 (ipykernel)",
   "language": "python",
   "name": "python3"
  },
  "language_info": {
   "codemirror_mode": {
    "name": "ipython",
    "version": 3
   },
   "file_extension": ".py",
   "mimetype": "text/x-python",
   "name": "python",
   "nbconvert_exporter": "python",
   "pygments_lexer": "ipython3",
   "version": "3.10.5"
  }
 },
 "nbformat": 4,
 "nbformat_minor": 5
}
