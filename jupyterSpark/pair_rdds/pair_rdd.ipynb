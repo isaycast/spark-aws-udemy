{
 "cells": [
  {
   "cell_type": "code",
   "execution_count": 1,
   "id": "92d8e746-fb73-442a-8595-477b6121f3ff",
   "metadata": {},
   "outputs": [],
   "source": [
    "from pyspark import SparkContext"
   ]
  },
  {
   "cell_type": "markdown",
   "id": "5145e4ca-8202-45fb-8360-3a5da2c7b9f9",
   "metadata": {},
   "source": [
    "# Pairs RDDs or RDDs key value\n",
    "This RDDs are saved as his name said key value, the common way to save it is in tuples"
   ]
  },
  {
   "cell_type": "code",
   "execution_count": 15,
   "id": "a2d1aef5-82c2-473a-975a-a66ccfb5401a",
   "metadata": {},
   "outputs": [
    {
     "data": {
      "text/plain": [
       "[('a', 1), ('b', 2), ('c', 3)]"
      ]
     },
     "execution_count": 15,
     "metadata": {},
     "output_type": "execute_result"
    }
   ],
   "source": [
    "# fisrt way to create pair Rdd\n",
    "sc.stop()\n",
    "list_tuples = [('a', 1),('b', 2),('c', 3)]\n",
    "sc = SparkContext()\n",
    "pair_rdd1 = sc.parallelize(list_tuples)\n",
    "pair_rdd1.collect()"
   ]
  },
  {
   "cell_type": "code",
   "execution_count": 17,
   "id": "ea78dc52-c035-4610-b891-33d1cf2b2aa4",
   "metadata": {},
   "outputs": [
    {
     "data": {
      "text/plain": [
       "[('a', 1), ('b', 2), ('c', 3)]"
      ]
     },
     "execution_count": 17,
     "metadata": {},
     "output_type": "execute_result"
    }
   ],
   "source": [
    "# The second way is with Zip\n",
    "pair_rdd2 = sc.parallelize(zip((['a', 'b', 'c']), range(1,4)))\n",
    "pair_rdd2.collect()"
   ]
  },
  {
   "cell_type": "code",
   "execution_count": 20,
   "id": "f82ea550-5763-48ba-8afa-a0f90a4dc57c",
   "metadata": {},
   "outputs": [
    {
     "data": {
      "text/plain": [
       "[(1, 0), (2, 1), (3, 2), (4, 3), (5, 4)]"
      ]
     },
     "execution_count": 20,
     "metadata": {},
     "output_type": "execute_result"
    }
   ],
   "source": [
    "# Also you could create pairds Rdd with keyby statment\n",
    "key_by_rdd = sc.parallelize(range(5))\n",
    "key_by_rdd.keyBy(lambda x: x +1).collect()\n",
    "# the key in this rdd going to be the element plus 1"
   ]
  },
  {
   "cell_type": "code",
   "execution_count": 22,
   "id": "7158ce0f-17d8-46f1-b20c-79df57ffe3b6",
   "metadata": {},
   "outputs": [
    {
     "data": {
      "text/plain": [
       "[('a', 0), ('b', 1), ('c', 2)]"
      ]
     },
     "execution_count": 22,
     "metadata": {},
     "output_type": "execute_result"
    }
   ],
   "source": [
    "# zipWith index\n",
    "# This function going to pair the value with their index\n",
    "zip_withIndex_rdd = sc.parallelize(['a', 'b', 'c'])\n",
    "zip_withIndex_rdd.zipWithIndex().collect()"
   ]
  },
  {
   "cell_type": "code",
   "execution_count": 31,
   "id": "b936f290-cd09-48ea-9943-a81ef6c0549a",
   "metadata": {},
   "outputs": [
    {
     "data": {
      "text/plain": [
       "[[], [], [('a', 2)], [], [], [('b', 5)], [], [('c', 7)]]"
      ]
     },
     "execution_count": 31,
     "metadata": {},
     "output_type": "execute_result"
    }
   ],
   "source": [
    "# zipWithUniqueId\n",
    "# this gen a unique id for partition\n",
    "zip_withUniqueId_rdd = sc.parallelize(['a', 'b', 'c'],3)\n",
    "zip_withIndex_rdd.zipWithUniqueId().glom().collect()"
   ]
  },
  {
   "cell_type": "code",
   "execution_count": null,
   "id": "240e0018-b8e8-4216-a0cd-45ceb9e7b554",
   "metadata": {},
   "outputs": [],
   "source": []
  }
 ],
 "metadata": {
  "kernelspec": {
   "display_name": "Python 3 (ipykernel)",
   "language": "python",
   "name": "python3"
  },
  "language_info": {
   "codemirror_mode": {
    "name": "ipython",
    "version": 3
   },
   "file_extension": ".py",
   "mimetype": "text/x-python",
   "name": "python",
   "nbconvert_exporter": "python",
   "pygments_lexer": "ipython3",
   "version": "3.10.5"
  }
 },
 "nbformat": 4,
 "nbformat_minor": 5
}
